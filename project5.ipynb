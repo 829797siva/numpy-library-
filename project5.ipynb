{
  "nbformat": 4,
  "nbformat_minor": 0,
  "metadata": {
    "colab": {
      "provenance": [],
      "authorship_tag": "ABX9TyP2IpQphSoYiU6GSEnw6gqf",
      "include_colab_link": true
    },
    "kernelspec": {
      "name": "python3",
      "display_name": "Python 3"
    },
    "language_info": {
      "name": "python"
    }
  },
  "cells": [
    {
      "cell_type": "markdown",
      "metadata": {
        "id": "view-in-github",
        "colab_type": "text"
      },
      "source": [
        "<a href=\"https://colab.research.google.com/github/829797siva/numpy-library-/blob/main/project5.ipynb\" target=\"_parent\"><img src=\"https://colab.research.google.com/assets/colab-badge.svg\" alt=\"Open In Colab\"/></a>"
      ]
    },
    {
      "cell_type": "markdown",
      "source": [
        "5. Image Brightness Adjustment (Numerical Only)\n",
        "\n",
        "Goal: Simulate increasing or decreasing brightness of a grayscale image.\n",
        "\n",
        "Concepts Used:\n",
        "\n",
        "numpy.clip()\n",
        "\n",
        "numpy.add() or arithmetic operations\n",
        "\n",
        "Example Tasks:\n",
        "\n",
        "Represent a 5x5 image as a NumPy array (values between 0–255).\n",
        "\n",
        "Add a constant to increase brightness.\n",
        "\n",
        "Use np.clip() to ensure values stay within 0–255.\n",
        "\n",
        "Learning Outcome: Understand how NumPy is used in image processing."
      ],
      "metadata": {
        "id": "3M_wI5PYtcKT"
      }
    },
    {
      "cell_type": "code",
      "execution_count": 2,
      "metadata": {
        "colab": {
          "base_uri": "https://localhost:8080/"
        },
        "id": "5s6CfMHJtWCx",
        "outputId": "09edbca9-2c4b-42ce-b3e8-1be2cee957e2"
      },
      "outputs": [
        {
          "output_type": "stream",
          "name": "stdout",
          "text": [
            "Original Image:\n",
            " [[ 50  80 100 120 150]\n",
            " [ 60  90 110 130 160]\n",
            " [ 70 100 120 140 170]\n",
            " [ 80 110 130 150 180]\n",
            " [ 90 120 140 160 200]]\n",
            "\n",
            "Brighter Image:\n",
            " [[ 90 120 140 160 190]\n",
            " [100 130 150 170 200]\n",
            " [110 140 160 180 210]\n",
            " [120 150 170 190 220]\n",
            " [130 160 180 200 240]]\n",
            "\n",
            "Darker Image:\n",
            " [[ 10  40  60  80 110]\n",
            " [ 20  50  70  90 120]\n",
            " [ 30  60  80 100 130]\n",
            " [ 40  70  90 110 140]\n",
            " [ 50  80 100 120 160]]\n"
          ]
        }
      ],
      "source": [
        "import numpy as np\n",
        "image = np.array([\n",
        "    [50, 80, 100, 120, 150],\n",
        "    [60, 90, 110, 130, 160],\n",
        "    [70, 100, 120, 140, 170],\n",
        "    [80, 110, 130, 150, 180],\n",
        "    [90, 120, 140, 160, 200]\n",
        "])\n",
        "print(\"Original Image:\\n\", image)\n",
        "brightness_increase = 40\n",
        "brighter_image = np.clip(image + brightness_increase, 0, 255)\n",
        "brightness_decrease = 40\n",
        "darker_image = np.clip(image - brightness_decrease, 0, 255)\n",
        "print(\"\\nBrighter Image:\\n\", brighter_image)\n",
        "print(\"\\nDarker Image:\\n\", darker_image)\n"
      ]
    },
    {
      "cell_type": "code",
      "source": [],
      "metadata": {
        "id": "R3vo1DCXtoQb"
      },
      "execution_count": null,
      "outputs": []
    }
  ]
}