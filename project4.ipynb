{
  "nbformat": 4,
  "nbformat_minor": 0,
  "metadata": {
    "colab": {
      "provenance": [],
      "authorship_tag": "ABX9TyNc+QgD1Y0gtgtKcJPhlOr6",
      "include_colab_link": true
    },
    "kernelspec": {
      "name": "python3",
      "display_name": "Python 3"
    },
    "language_info": {
      "name": "python"
    }
  },
  "cells": [
    {
      "cell_type": "markdown",
      "metadata": {
        "id": "view-in-github",
        "colab_type": "text"
      },
      "source": [
        "<a href=\"https://colab.research.google.com/github/829797siva/numpy-library-/blob/main/project4.ipynb\" target=\"_parent\"><img src=\"https://colab.research.google.com/assets/colab-badge.svg\" alt=\"Open In Colab\"/></a>"
      ]
    },
    {
      "cell_type": "markdown",
      "source": [
        "4. Temperature Data Analyzer\n",
        "\n",
        "Goal: Analyze a week’s temperature data and find trends.\n",
        "\n",
        "Concepts Used:\n",
        "\n",
        "numpy.array()\n",
        "\n",
        "numpy.max(), numpy.min(), numpy.mean()\n",
        "\n",
        "Boolean indexing\n",
        "\n",
        "Example Tasks:\n",
        "\n",
        "Store temperatures for 7 days.\n",
        "\n",
        "Find the hottest and coldest days.\n",
        "\n",
        "Count how many days were above average temperature.\n",
        "\n",
        "Learning Outcome: Practice data filtering and basic analytics."
      ],
      "metadata": {
        "id": "RPsYJ_RvsVRu"
      }
    },
    {
      "cell_type": "code",
      "execution_count": 1,
      "metadata": {
        "colab": {
          "base_uri": "https://localhost:8080/"
        },
        "id": "N-2tww9psR7l",
        "outputId": "48476801-05a0-4f5a-fe63-878aa8f09d36"
      },
      "outputs": [
        {
          "output_type": "stream",
          "name": "stdout",
          "text": [
            "Temperatures for the week: [30 32 33 31 29 35 34]\n",
            "Hottest temperature: 35 °C\n",
            "Coldest temperature: 29 °C\n",
            "Average temperature: 32.0 °C\n",
            "Days above average temperature: 3\n",
            "Temperatures above average: [33 35 34]\n"
          ]
        }
      ],
      "source": [
        "import numpy as np\n",
        "temperatures = np.array([30, 32, 33, 31, 29, 35, 34])\n",
        "hottest = np.max(temperatures)\n",
        "coldest = np.min(temperatures)\n",
        "average = np.mean(temperatures)\n",
        "above_avg_days = temperatures[temperatures > average]\n",
        "count_above_avg = len(above_avg_days)\n",
        "print(\"Temperatures for the week:\", temperatures)\n",
        "print(\"Hottest temperature:\", hottest, \"°C\")\n",
        "print(\"Coldest temperature:\", coldest, \"°C\")\n",
        "print(\"Average temperature:\", round(average, 2), \"°C\")\n",
        "print(\"Days above average temperature:\", count_above_avg)\n",
        "print(\"Temperatures above average:\", above_avg_days)\n"
      ]
    }
  ]
}