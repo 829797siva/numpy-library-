{
  "nbformat": 4,
  "nbformat_minor": 0,
  "metadata": {
    "colab": {
      "provenance": [],
      "authorship_tag": "ABX9TyOGP/pn2/+TWkvygWojP51s",
      "include_colab_link": true
    },
    "kernelspec": {
      "name": "python3",
      "display_name": "Python 3"
    },
    "language_info": {
      "name": "python"
    }
  },
  "cells": [
    {
      "cell_type": "markdown",
      "metadata": {
        "id": "view-in-github",
        "colab_type": "text"
      },
      "source": [
        "<a href=\"https://colab.research.google.com/github/829797siva/numpy-library-/blob/main/project2.ipynb\" target=\"_parent\"><img src=\"https://colab.research.google.com/assets/colab-badge.svg\" alt=\"Open In Colab\"/></a>"
      ]
    },
    {
      "cell_type": "markdown",
      "source": [
        "Student Marks Analysis\n",
        "\n",
        "Goal: Analyze marks of students in different subjects using NumPy arrays.\n",
        "\n",
        "Concepts Used:\n",
        "\n",
        "numpy.mean(), numpy.max(), numpy.min(), numpy.std()\n",
        "\n",
        "Example Tasks:\n",
        "\n",
        "Store marks of 5 students in 3 subjects.\n",
        "\n",
        "Calculate average marks per student and per subject.\n",
        "\n",
        "Find the topper in each subject.\n",
        "\n",
        "Learning Outcome: Learn data summarization using NumPy statistics."
      ],
      "metadata": {
        "id": "UbVFE7XJjkM2"
      }
    },
    {
      "cell_type": "code",
      "execution_count": 4,
      "metadata": {
        "colab": {
          "base_uri": "https://localhost:8080/"
        },
        "id": "bMA43jZLjgrU",
        "outputId": "3ee59f71-c232-4095-a31b-5bf94350bd14"
      },
      "outputs": [
        {
          "output_type": "stream",
          "name": "stdout",
          "text": [
            "[[ 77  78  98]\n",
            " [ 90  50  30]\n",
            " [100  80 100]\n",
            " [ 40   0  60]\n",
            " [ 70  50  60]]\n",
            "Average marks per student:\n",
            "65.53333333333333\n",
            "topper in each subject:\n",
            "100\n",
            "Standard deviation per subject:\n",
            "27.4441655406431\n"
          ]
        }
      ],
      "source": [
        "import numpy as np\n",
        "marks=np.array([\n",
        "    [77,78,98],\n",
        "    [90,50,30],\n",
        "    [100,80,100],\n",
        "    [40,0,60],\n",
        "    [70,50,60]\n",
        "])\n",
        "print(marks)\n",
        "\n",
        "print(\"Average marks per student:\")\n",
        "print(np.mean(marks))\n",
        "print(\"topper in each subject:\")\n",
        "print(np.max(marks))\n",
        "print(\"Standard deviation per subject:\")\n",
        "print(np.std(marks))"
      ]
    },
    {
      "cell_type": "code",
      "source": [],
      "metadata": {
        "id": "wfXrIkT1l6r-"
      },
      "execution_count": null,
      "outputs": []
    }
  ]
}