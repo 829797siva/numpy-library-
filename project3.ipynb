{
  "nbformat": 4,
  "nbformat_minor": 0,
  "metadata": {
    "colab": {
      "provenance": [],
      "authorship_tag": "ABX9TyP7ygYfRNgcf6hG786DnZNF",
      "include_colab_link": true
    },
    "kernelspec": {
      "name": "python3",
      "display_name": "Python 3"
    },
    "language_info": {
      "name": "python"
    }
  },
  "cells": [
    {
      "cell_type": "markdown",
      "metadata": {
        "id": "view-in-github",
        "colab_type": "text"
      },
      "source": [
        "<a href=\"https://colab.research.google.com/github/829797siva/numpy-library-/blob/main/project3.ipynb\" target=\"_parent\"><img src=\"https://colab.research.google.com/assets/colab-badge.svg\" alt=\"Open In Colab\"/></a>"
      ]
    },
    {
      "cell_type": "markdown",
      "source": [
        "3. Dice Roll Simulator\n",
        "\n",
        "Goal: Simulate rolling a die multiple times and analyze probabilities.\n",
        "\n",
        "Concepts Used:\n",
        "\n",
        "numpy.random.randint()\n",
        "\n",
        "numpy.unique()\n",
        "\n",
        "numpy.bincount()\n",
        "\n",
        "Example Tasks:\n",
        "\n",
        "Simulate rolling a die 1000 times.\n",
        "\n",
        "Count how many times each number (1–6) appears.\n",
        "\n",
        "Display results using probabilities.\n",
        "\n",
        "Learning Outcome: Learn random number generation and basic probability."
      ],
      "metadata": {
        "id": "o8v0F1V9nS27"
      }
    },
    {
      "cell_type": "code",
      "execution_count": 5,
      "metadata": {
        "colab": {
          "base_uri": "https://localhost:8080/"
        },
        "id": "GhX_UUx0nO49",
        "outputId": "a4346eff-be25-494c-c4b8-83b7fe8d1542"
      },
      "outputs": [
        {
          "output_type": "stream",
          "name": "stdout",
          "text": [
            "Dice Rolls: [5 1 6 5 5 4 6 3 4 5 6 4 6 5 3 6 5 6 5 6]\n",
            "Unique Numbers: [1 2 3 4 5 6]\n",
            "Count of each number (1–6): [169 158 175 183 152 163]\n",
            "Probabilities of each number: [0.169 0.158 0.175 0.183 0.152 0.163]\n"
          ]
        }
      ],
      "source": [
        "import numpy as np\n",
        "rolls=np.random.randint(1,7,1000)\n",
        "un=np.unique(rolls)\n",
        "counts = np.bincount(rolls)[1:]\n",
        "probabilities = counts / 1000\n",
        "print(\"Dice Rolls:\", rolls[:20])\n",
        "print(\"Unique Numbers:\", un)\n",
        "print(\"Count of each number (1–6):\", counts)\n",
        "print(\"Probabilities of each number:\", probabilities)\n"
      ]
    },
    {
      "cell_type": "code",
      "source": [],
      "metadata": {
        "id": "snVkq0jtrmKz"
      },
      "execution_count": null,
      "outputs": []
    }
  ]
}