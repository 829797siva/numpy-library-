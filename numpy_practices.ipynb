{
  "nbformat": 4,
  "nbformat_minor": 0,
  "metadata": {
    "colab": {
      "provenance": [],
      "authorship_tag": "ABX9TyOPkQFB1gsc/+xo7BxWhX/1",
      "include_colab_link": true
    },
    "kernelspec": {
      "name": "python3",
      "display_name": "Python 3"
    },
    "language_info": {
      "name": "python"
    }
  },
  "cells": [
    {
      "cell_type": "markdown",
      "metadata": {
        "id": "view-in-github",
        "colab_type": "text"
      },
      "source": [
        "<a href=\"https://colab.research.google.com/github/829797siva/numpy-library-/blob/main/numpy_practices.ipynb\" target=\"_parent\"><img src=\"https://colab.research.google.com/assets/colab-badge.svg\" alt=\"Open In Colab\"/></a>"
      ]
    },
    {
      "cell_type": "markdown",
      "source": [
        "creating numpy arrays:"
      ],
      "metadata": {
        "id": "hngaoJ7vf17y"
      }
    },
    {
      "cell_type": "code",
      "execution_count": 1,
      "metadata": {
        "colab": {
          "base_uri": "https://localhost:8080/"
        },
        "id": "evuGMD5be_Yq",
        "outputId": "a10198dc-73cf-42e9-8e61-6dd5edc828e9"
      },
      "outputs": [
        {
          "output_type": "stream",
          "name": "stdout",
          "text": [
            "[[0. 0. 0. 0.]\n",
            " [0. 0. 0. 0.]\n",
            " [0. 0. 0. 0.]]\n"
          ]
        }
      ],
      "source": [
        "import numpy as np\n",
        "arr=np.zeros ([3,4])\n",
        "print(arr)"
      ]
    },
    {
      "cell_type": "code",
      "source": [
        "import numpy as np\n",
        "arr=np.ones([3,4])\n",
        "print(arr)"
      ],
      "metadata": {
        "colab": {
          "base_uri": "https://localhost:8080/"
        },
        "id": "mZ6O-E-OfwJj",
        "outputId": "f28f25a0-c449-4a4e-cfa4-1fc6b847fa17"
      },
      "execution_count": 2,
      "outputs": [
        {
          "output_type": "stream",
          "name": "stdout",
          "text": [
            "[[1. 1. 1. 1.]\n",
            " [1. 1. 1. 1.]\n",
            " [1. 1. 1. 1.]]\n"
          ]
        }
      ]
    },
    {
      "cell_type": "code",
      "source": [
        "import numpy as np\n",
        "arr=np.arange(1,10,2)\n",
        "print(arr)"
      ],
      "metadata": {
        "colab": {
          "base_uri": "https://localhost:8080/"
        },
        "id": "aySHXJBfgDgw",
        "outputId": "a508682e-9411-4cd4-9d19-557c0b8a9748"
      },
      "execution_count": 5,
      "outputs": [
        {
          "output_type": "stream",
          "name": "stdout",
          "text": [
            "[1 3 5 7 9]\n"
          ]
        }
      ]
    },
    {
      "cell_type": "code",
      "source": [
        "arr=np.linspace(0,1,5)\n",
        "print(arr)"
      ],
      "metadata": {
        "colab": {
          "base_uri": "https://localhost:8080/"
        },
        "id": "w8SjP2pDgm0z",
        "outputId": "878b5ca1-6408-4726-931e-61bb967148c5"
      },
      "execution_count": 12,
      "outputs": [
        {
          "output_type": "stream",
          "name": "stdout",
          "text": [
            "[0.   0.25 0.5  0.75 1.  ]\n"
          ]
        }
      ]
    },
    {
      "cell_type": "code",
      "source": [
        "arr=np.eye(3)\n",
        "print(arr)"
      ],
      "metadata": {
        "colab": {
          "base_uri": "https://localhost:8080/"
        },
        "id": "qzyWuP09hckg",
        "outputId": "5b08533b-b7ea-434b-d083-96f6e1a937dd"
      },
      "execution_count": 13,
      "outputs": [
        {
          "output_type": "stream",
          "name": "stdout",
          "text": [
            "[[1. 0. 0.]\n",
            " [0. 1. 0.]\n",
            " [0. 0. 1.]]\n"
          ]
        }
      ]
    },
    {
      "cell_type": "markdown",
      "source": [
        "indexing and slicing:"
      ],
      "metadata": {
        "id": "IT4HCaBbhtY7"
      }
    },
    {
      "cell_type": "markdown",
      "source": [
        "indexing:"
      ],
      "metadata": {
        "id": "PodP5jQTiLqM"
      }
    },
    {
      "cell_type": "code",
      "source": [
        "arr=np.array([1,2,3,4,5,6,7,8,9])\n",
        "print(arr[0])\n",
        "print(arr[2])\n",
        "print(arr[5])\n",
        "print(arr[-1])\n"
      ],
      "metadata": {
        "colab": {
          "base_uri": "https://localhost:8080/"
        },
        "id": "YwHV9BirhzyG",
        "outputId": "9204fcda-0e92-41b7-be38-d5a60182c1d5"
      },
      "execution_count": 15,
      "outputs": [
        {
          "output_type": "stream",
          "name": "stdout",
          "text": [
            "1\n",
            "3\n",
            "6\n",
            "9\n"
          ]
        }
      ]
    },
    {
      "cell_type": "markdown",
      "source": [
        "slicing:"
      ],
      "metadata": {
        "id": "iXkN6oZliOm2"
      }
    },
    {
      "cell_type": "code",
      "source": [
        "arr=np.array([1,2,3,4,5,8,6,12,36])\n",
        "print(arr[3:3])\n",
        "print(arr[:3])\n",
        "print(arr[3:])\n",
        "print(arr[::2])\n",
        "print(arr[::-1])"
      ],
      "metadata": {
        "colab": {
          "base_uri": "https://localhost:8080/"
        },
        "id": "YibVd8YYiDC8",
        "outputId": "86e4e9b8-af41-4ef4-badb-9ee7cb366483"
      },
      "execution_count": 17,
      "outputs": [
        {
          "output_type": "stream",
          "name": "stdout",
          "text": [
            "[]\n",
            "[1 2 3]\n",
            "[ 4  5  8  6 12 36]\n",
            "[ 1  3  5  6 36]\n",
            "[36 12  6  8  5  4  3  2  1]\n"
          ]
        }
      ]
    },
    {
      "cell_type": "markdown",
      "source": [
        "aggregate operations:"
      ],
      "metadata": {
        "id": "YLg01qk_izAl"
      }
    },
    {
      "cell_type": "code",
      "source": [
        "arr=np.array([1,85,62,3,5,66])\n",
        "print(np.sum(arr))\n",
        "print(np.min(arr))\n",
        "print(np.max(arr))\n",
        "print(np.std(arr))\n",
        "print(np.mean(arr))\n",
        "print(np.median(arr))"
      ],
      "metadata": {
        "colab": {
          "base_uri": "https://localhost:8080/"
        },
        "id": "2_GM8nzUildw",
        "outputId": "bcafcf27-e3e1-4479-b28f-4bab549d23db"
      },
      "execution_count": 21,
      "outputs": [
        {
          "output_type": "stream",
          "name": "stdout",
          "text": [
            "222\n",
            "1\n",
            "85\n",
            "34.751498768638264\n",
            "37.0\n",
            "33.5\n"
          ]
        }
      ]
    },
    {
      "cell_type": "markdown",
      "source": [
        "ATTRIBUTES:"
      ],
      "metadata": {
        "id": "xo68IS_Hjlah"
      }
    },
    {
      "cell_type": "code",
      "source": [
        "import numpy as np\n",
        "details=[[1,2,4,5,6],[5,6,9,8,4]]\n",
        "show=np.array(details)\n",
        "print(show)\n",
        "print(show.shape)"
      ],
      "metadata": {
        "colab": {
          "base_uri": "https://localhost:8080/"
        },
        "id": "sphFJcgFjJVy",
        "outputId": "3893cbd1-41bf-4444-fc27-3bdb84958aff"
      },
      "execution_count": 27,
      "outputs": [
        {
          "output_type": "stream",
          "name": "stdout",
          "text": [
            "[[1 2 4 5 6]\n",
            " [5 6 9 8 4]]\n",
            "(2, 5)\n"
          ]
        }
      ]
    },
    {
      "cell_type": "code",
      "source": [
        "import numpy as np\n",
        "data=[[55,66,99,88,66,55],[55,66,99,44,25,36]]\n",
        "shap=np.array(data)\n",
        "print(shap)\n",
        "print(shap.ndim)"
      ],
      "metadata": {
        "colab": {
          "base_uri": "https://localhost:8080/"
        },
        "id": "dRR6jCW8j-Hf",
        "outputId": "c5d5ea76-06e6-40e9-dbff-df7882f67810"
      },
      "execution_count": 28,
      "outputs": [
        {
          "output_type": "stream",
          "name": "stdout",
          "text": [
            "[[55 66 99 88 66 55]\n",
            " [55 66 99 44 25 36]]\n",
            "2\n"
          ]
        }
      ]
    },
    {
      "cell_type": "code",
      "source": [
        "import numpy as np\n",
        "data=[[42,55,62,35,86],[8,5,9,6,4]]\n",
        "show=np.array(data)\n",
        "print(show)\n",
        "print(show.T)"
      ],
      "metadata": {
        "colab": {
          "base_uri": "https://localhost:8080/"
        },
        "id": "UFYC0Adokev_",
        "outputId": "e24353c5-6cf6-4d5a-eb18-79e9ba2ecef2"
      },
      "execution_count": 29,
      "outputs": [
        {
          "output_type": "stream",
          "name": "stdout",
          "text": [
            "[[42 55 62 35 86]\n",
            " [ 8  5  9  6  4]]\n",
            "[[42  8]\n",
            " [55  5]\n",
            " [62  9]\n",
            " [35  6]\n",
            " [86  4]]\n"
          ]
        }
      ]
    },
    {
      "cell_type": "markdown",
      "source": [
        "importent methods in DATA SCIENCE:"
      ],
      "metadata": {
        "id": "On5u7fZak6Kl"
      }
    },
    {
      "cell_type": "code",
      "source": [
        "import numpy as np\n",
        "data=np.array([[44,53,95,65,11],[45,78,95,68,99]])\n",
        "print(data.reshape(5,2))\n"
      ],
      "metadata": {
        "colab": {
          "base_uri": "https://localhost:8080/"
        },
        "id": "5i6beOB_kwmi",
        "outputId": "96cac394-99b0-4fc5-85af-33d3b971f1e5"
      },
      "execution_count": 30,
      "outputs": [
        {
          "output_type": "stream",
          "name": "stdout",
          "text": [
            "[[44 53]\n",
            " [95 65]\n",
            " [11 45]\n",
            " [78 95]\n",
            " [68 99]]\n"
          ]
        }
      ]
    },
    {
      "cell_type": "code",
      "source": [
        "import numpy as np\n",
        "data=np.array([[44,53,95,65,11],[45,78,95,68,99]])\n",
        "print(data.flatten())"
      ],
      "metadata": {
        "colab": {
          "base_uri": "https://localhost:8080/"
        },
        "id": "8kEmegGdlSnk",
        "outputId": "f8fb0db5-b79c-4e7c-e07a-af8e171df0c9"
      },
      "execution_count": 31,
      "outputs": [
        {
          "output_type": "stream",
          "name": "stdout",
          "text": [
            "[44 53 95 65 11 45 78 95 68 99]\n"
          ]
        }
      ]
    },
    {
      "cell_type": "code",
      "source": [
        "import numpy as np\n",
        "data=np.array([[44,53,95,65,11],[45,78,95,68,99]])\n",
        "print(data.ravel())"
      ],
      "metadata": {
        "colab": {
          "base_uri": "https://localhost:8080/"
        },
        "id": "giFeEdD5ldC_",
        "outputId": "6619c154-00f7-4c16-ec7d-4c3b77c21c96"
      },
      "execution_count": 32,
      "outputs": [
        {
          "output_type": "stream",
          "name": "stdout",
          "text": [
            "[44 53 95 65 11 45 78 95 68 99]\n"
          ]
        }
      ]
    },
    {
      "cell_type": "code",
      "source": [
        "import numpy as np\n",
        "data=np.array([[44,53,95,65,11],[45,78,95,68,99]])\n",
        "print(data.transpose())"
      ],
      "metadata": {
        "colab": {
          "base_uri": "https://localhost:8080/"
        },
        "id": "BAw7vjRXlnSw",
        "outputId": "f7108240-3c8a-4a0d-f8b8-4d8745938532"
      },
      "execution_count": 33,
      "outputs": [
        {
          "output_type": "stream",
          "name": "stdout",
          "text": [
            "[[44 45]\n",
            " [53 78]\n",
            " [95 95]\n",
            " [65 68]\n",
            " [11 99]]\n"
          ]
        }
      ]
    },
    {
      "cell_type": "code",
      "source": [
        "import numpy as np\n",
        "data=np.array([[44,53,95,65,11],[45,78,95,68,99]])\n",
        "print(data.sort())"
      ],
      "metadata": {
        "colab": {
          "base_uri": "https://localhost:8080/"
        },
        "id": "oZnuhLfdl-me",
        "outputId": "f697b107-0170-4b08-a8aa-1b9d12dd71f9"
      },
      "execution_count": 34,
      "outputs": [
        {
          "output_type": "stream",
          "name": "stdout",
          "text": [
            "None\n"
          ]
        }
      ]
    },
    {
      "cell_type": "code",
      "source": [
        "import numpy as np\n",
        "data=np.array([[44,53,95,65,11],[45,78,95,68,99]])\n",
        "print(data.argsort())"
      ],
      "metadata": {
        "colab": {
          "base_uri": "https://localhost:8080/"
        },
        "id": "eq4kB4xzmHC4",
        "outputId": "deec6541-76a5-4697-df00-f134c1409bfe"
      },
      "execution_count": 35,
      "outputs": [
        {
          "output_type": "stream",
          "name": "stdout",
          "text": [
            "[[4 0 1 3 2]\n",
            " [0 3 1 2 4]]\n"
          ]
        }
      ]
    },
    {
      "cell_type": "code",
      "source": [
        "import numpy as np\n",
        "data=np.array([[44,53,95,65,11],[45,78,95,68,99]])\n",
        "print(data.diagonal())"
      ],
      "metadata": {
        "colab": {
          "base_uri": "https://localhost:8080/"
        },
        "id": "U2AUqFMQmdBY",
        "outputId": "de377f79-3be9-43fc-eef9-d088f5481e8d"
      },
      "execution_count": 37,
      "outputs": [
        {
          "output_type": "stream",
          "name": "stdout",
          "text": [
            "[44 78]\n"
          ]
        }
      ]
    },
    {
      "cell_type": "code",
      "source": [
        "import numpy as np\n",
        "data=np.array([[44,53,95,65,11],[45,78,95,68,99]])\n",
        "print(data.trace())"
      ],
      "metadata": {
        "colab": {
          "base_uri": "https://localhost:8080/"
        },
        "id": "75-9v_3NmsnP",
        "outputId": "712244b6-2917-433a-9494-27df022a1d70"
      },
      "execution_count": 38,
      "outputs": [
        {
          "output_type": "stream",
          "name": "stdout",
          "text": [
            "122\n"
          ]
        }
      ]
    },
    {
      "cell_type": "code",
      "source": [],
      "metadata": {
        "id": "m--52nLkm0C6"
      },
      "execution_count": null,
      "outputs": []
    }
  ]
}