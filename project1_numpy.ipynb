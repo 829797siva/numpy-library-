{
  "nbformat": 4,
  "nbformat_minor": 0,
  "metadata": {
    "colab": {
      "provenance": [],
      "authorship_tag": "ABX9TyNNqiLcKrWdsnIITW5JuoDw",
      "include_colab_link": true
    },
    "kernelspec": {
      "name": "python3",
      "display_name": "Python 3"
    },
    "language_info": {
      "name": "python"
    }
  },
  "cells": [
    {
      "cell_type": "markdown",
      "metadata": {
        "id": "view-in-github",
        "colab_type": "text"
      },
      "source": [
        "<a href=\"https://colab.research.google.com/github/829797siva/numpy-library-/blob/main/project1_numpy.ipynb\" target=\"_parent\"><img src=\"https://colab.research.google.com/assets/colab-badge.svg\" alt=\"Open In Colab\"/></a>"
      ]
    },
    {
      "cell_type": "markdown",
      "source": [
        "1. Matrix Operations Calculator\n",
        "\n",
        "Goal: Create a program that performs matrix operations like addition, subtraction, multiplication, and transpose.\n",
        "\n",
        "Concepts Used:\n",
        "\n",
        "numpy.array()\n",
        "\n",
        "numpy.dot()\n",
        "\n",
        "numpy.transpose()\n",
        "\n",
        "Example Tasks:\n",
        "\n",
        "Take two matrices as input.\n",
        "\n",
        "Perform operations and display results.\n",
        "\n",
        "Validate shapes before multiplication.\n",
        "\n",
        "Learning Outcome: Understand linear algebra basics using NumPy."
      ],
      "metadata": {
        "id": "WmXNtrqCfl2w"
      }
    },
    {
      "cell_type": "code",
      "execution_count": null,
      "metadata": {
        "colab": {
          "base_uri": "https://localhost:8080/"
        },
        "id": "e4c4n0B4fYI6",
        "outputId": "eac3e97a-0365-4d75-f08f-1940787c7365"
      },
      "outputs": [
        {
          "output_type": "stream",
          "name": "stdout",
          "text": [
            "[[10 20 30 40 50]\n",
            " [50 40 60 60 40]]\n",
            "[[40 50 20 80 90]\n",
            " [55 44 88 99 77]]\n",
            "additon of two matrix: [[ 50  70  50 120 140]\n",
            " [105  84 148 159 117]]\n",
            "subtraction of two matrix: [[-30 -30  10 -40 -40]\n",
            " [ -5  -4 -28 -39 -37]]\n",
            "multiplication of two matrix: [[ 400 1000  600 3200 4500]\n",
            " [2750 1760 5280 5940 3080]]\n",
            "transpose of first matrix: [[10 50]\n",
            " [20 40]\n",
            " [30 60]\n",
            " [40 60]\n",
            " [50 40]]\n",
            "transpose of second matrix: [[40 55]\n",
            " [50 44]\n",
            " [20 88]\n",
            " [80 99]\n",
            " [90 77]]\n",
            "20\n",
            "10\n"
          ]
        }
      ],
      "source": [
        "import numpy as np\n",
        "d1=np.array([[10,20,30,40,50],[50,40,60,60,40]])\n",
        "d2=np.array([[40,50,20,80,90],[55,44,88,99,77]])\n",
        "print(d1)\n",
        "print(d2)\n",
        "print(\"additon of two matrix:\",d1+d2)\n",
        "print(\"subtraction of two matrix:\",d1-d2)\n",
        "print(\"multiplication of two matrix:\",d1*d2)\n",
        "print(\"transpose of first matrix:\",np.transpose(d1))\n",
        "print(\"transpose of second matrix:\",np.transpose(d2))\n",
        "print(np.dot(10,2))\n",
        "print(np.array(10))\n"
      ]
    },
    {
      "cell_type": "code",
      "source": [],
      "metadata": {
        "id": "BIlcNaXjgGj8"
      },
      "execution_count": null,
      "outputs": []
    }
  ]
}